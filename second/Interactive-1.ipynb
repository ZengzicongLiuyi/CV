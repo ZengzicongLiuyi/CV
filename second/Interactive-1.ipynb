{
 "cells": [
  {
   "cell_type": "code",
   "execution_count": 1,
   "metadata": {},
   "outputs": [
    {
     "name": "stdout",
     "output_type": "stream",
     "text": [
      "np.array: [1 2 3]\n",
      "=====================\n",
      "np.zeros: [[0. 0. 0.]\n",
      " [0. 0. 0.]]\n",
      "=====================\n",
      "np.ones: [[1. 1. 1.]\n",
      " [1. 1. 1.]]\n",
      "=====================\n",
      "np.arange: [-2 -1  0  1  2  3  4]\n",
      "=====================\n",
      "np.linspace: [1.  1.8 2.6 3.4 4.2 5. ]\n",
      "=====================\n",
      "np.indices: [[[0 0 0]\n",
      "  [1 1 1]]\n",
      "\n",
      " [[0 1 2]\n",
      "  [0 1 2]]]\n",
      "=====================\n"
     ]
    }
   ],
   "source": [
    "import numpy as np\n",
    "\n",
    "a = np.array([1,2,3])\n",
    "print(\"np.array:\",a)\n",
    "print(\"=====================\")\n",
    "\n",
    "b = np.zeros((2,3))\n",
    "print(\"np.zeros:\",b)\n",
    "print(\"=====================\")\n",
    "\n",
    "c= np.ones((2,3))\n",
    "print(\"np.ones:\",c)\n",
    "print(\"=====================\")\n",
    "\n",
    "e= np.arange(-2,5)\n",
    "print(\"np.arange:\",e)\n",
    "print(\"=====================\")\n",
    "\n",
    "f=np.linspace(1,5,6)\n",
    "print(\"np.linspace:\",f)\n",
    "print(\"=====================\")\n",
    "\n",
    "g= np.indices((2,3))\n",
    "print(\"np.indices:\",g)\n",
    "print(\"=====================\")"
   ]
  }
 ],
 "metadata": {
  "kernelspec": {
   "display_name": "Python 3",
   "language": "python",
   "name": "python3"
  },
  "language_info": {
   "codemirror_mode": {
    "name": "ipython",
    "version": 3
   },
   "file_extension": ".py",
   "mimetype": "text/x-python",
   "name": "python",
   "nbconvert_exporter": "python",
   "pygments_lexer": "ipython3",
   "version": "3.12.0"
  }
 },
 "nbformat": 4,
 "nbformat_minor": 2
}
